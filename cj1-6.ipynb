{
 "cells": [
  {
   "cell_type": "code",
   "execution_count": 1,
   "id": "79ea4dc7-9650-49b2-a1d4-32efdbb2a67f",
   "metadata": {},
   "outputs": [],
   "source": [
    "import numpy as np\n",
    "from astropy.table import Table\n",
    "from astropy.io import ascii"
   ]
  },
  {
   "cell_type": "markdown",
   "id": "584cfbff-852f-4ad6-ac44-e23669085112",
   "metadata": {},
   "source": [
    "### 1"
   ]
  },
  {
   "cell_type": "code",
   "execution_count": 2,
   "id": "4eba0ca6-3a80-4a37-8094-0ce27a42115d",
   "metadata": {},
   "outputs": [],
   "source": [
    "def func(x):\n",
    "    return(np.sin(x))"
   ]
  },
  {
   "cell_type": "markdown",
   "id": "a3b5121c-0d49-420d-8724-fa35756adabd",
   "metadata": {},
   "source": [
    "inputting an integer for x returns the sin(x)"
   ]
  },
  {
   "cell_type": "markdown",
   "id": "0c553619-8ce2-468f-8c7d-d9528e283396",
   "metadata": {},
   "source": [
    "### 2"
   ]
  },
  {
   "cell_type": "code",
   "execution_count": 3,
   "id": "b4106ea4-865a-48dc-ab92-814ed952d88f",
   "metadata": {},
   "outputs": [],
   "source": [
    "def func2(x):\n",
    "    return(np.cos(x))"
   ]
  },
  {
   "cell_type": "markdown",
   "id": "fc7d99de-c797-43f2-a0ab-c29316584764",
   "metadata": {},
   "source": [
    "inputting an integer for x returns the cos(x)"
   ]
  },
  {
   "cell_type": "markdown",
   "id": "0d80aa87-fc07-4a9a-843b-cfc21b598f77",
   "metadata": {},
   "source": [
    "### 4"
   ]
  },
  {
   "cell_type": "code",
   "execution_count": 4,
   "id": "b7abb55e-54e3-42ea-86b4-11efd829d0b3",
   "metadata": {},
   "outputs": [
    {
     "name": "stdout",
     "output_type": "stream",
     "text": [
      "         sin(x)               cos(x)                x          \n",
      "----------------------- ------------------ --------------------\n",
      "                    0.0                1.0                  0.0\n",
      "   0.006289433316067751 0.9999802213186832 0.006289474781961547\n",
      "   0.012578617838741058 0.9999208860571255 0.012578949563923095\n",
      "    0.01886730478446709 0.9998219965624732 0.018868424345884642\n",
      "   0.025155245389375847 0.9996835567465339  0.02515789912784619\n",
      "     0.0314421909191206 0.9995055720856215  0.03144737390980774\n",
      "    0.03772789267871718   0.99928804962034 0.037736848691769284\n",
      "    0.04401210202238166 0.9990309979553044  0.04402632347373083\n",
      "    0.05029457036336618 0.9987344272588006  0.05031579825569238\n",
      "   0.056575049183792345 0.9983983492623831 0.056605273037653926\n",
      "                    ...                ...                  ...\n",
      "  -0.056575049183792726  0.998398349262383    6.226580034141932\n",
      "   -0.05029457036336704 0.9987344272588006    6.232869508923893\n",
      "   -0.04401210202238211 0.9990309979553044    6.239158983705855\n",
      "    -0.0377278926787181   0.99928804962034    6.245448458487816\n",
      "  -0.031442190919121114 0.9995055720856215    6.251737933269778\n",
      "   -0.02515524538937684 0.9996835567465338    6.258027408051739\n",
      "  -0.018867304784467676 0.9998219965624732    6.264316882833701\n",
      "  -0.012578617838742121 0.9999208860571255    6.270606357615662\n",
      "  -0.006289433316068405 0.9999802213186832    6.276895832397624\n",
      "-2.4492935982947064e-16                1.0    6.283185307179586\n",
      "Length = 1000 rows\n"
     ]
    }
   ],
   "source": [
    "x = np.linspace(0,2.0*np.pi,1000)\n",
    "# a thousand entries where x is equal to a number between 0 to 2pi\n",
    "\n",
    "# use a variable to grab the function defined above; can't input the function directly in astropy Table function\n",
    "sin_values = func(x)\n",
    "cos_values = func2(x)\n",
    "\n",
    "# create a table with data values in the first list, and names of cloumns in the second\n",
    "data = Table([sin_values, cos_values, x],names=['sin(x)', 'cos(x)', 'x'])\n",
    "\n",
    "print(data)"
   ]
  },
  {
   "cell_type": "markdown",
   "id": "758391f1-5336-4bd2-9328-b651395f2885",
   "metadata": {},
   "source": [
    "### 3"
   ]
  },
  {
   "cell_type": "code",
   "execution_count": 5,
   "id": "35967e1d-b9d8-4a4e-8879-d2532504ecd1",
   "metadata": {},
   "outputs": [
    {
     "name": "stdout",
     "output_type": "stream",
     "text": [
      "       sin(x)              cos(x)                x          \n",
      "-------------------- ------------------ --------------------\n",
      "                 0.0                1.0                  0.0\n",
      "0.006289433316067751 0.9999802213186832 0.006289474781961547\n",
      "0.012578617838741058 0.9999208860571255 0.012578949563923095\n",
      " 0.01886730478446709 0.9998219965624732 0.018868424345884642\n",
      "0.025155245389375847 0.9996835567465339  0.02515789912784619\n",
      "  0.0314421909191206 0.9995055720856215  0.03144737390980774\n",
      " 0.03772789267871718   0.99928804962034 0.037736848691769284\n",
      " 0.04401210202238166 0.9990309979553044  0.04402632347373083\n",
      " 0.05029457036336618 0.9987344272588006  0.05031579825569238\n",
      "0.056575049183792345 0.9983983492623831 0.056605273037653926\n"
     ]
    }
   ],
   "source": [
    "sin_vals = []\n",
    "cos_vals = []\n",
    "x_vals = []\n",
    "# created lists so that I can implement the lists into a new, clean table\n",
    "\n",
    "for i in range(10): # looping through the first 10 values of the original data table\n",
    "    sin_vals.append(data['sin(x)'][i])\n",
    "    cos_vals.append(data['cos(x)'][i])\n",
    "    x_vals.append(data['x'][i])\n",
    "# for loop that appends each of the first 10 data values from sinx, cosx, and x into the lists created in lines 1-3\n",
    "\n",
    "# recreated a new table for the first 10 values of sinx, cosx, and x. Used the list names (sin_vals, etc.) to define the data values\n",
    "first_10 = Table([sin_vals, cos_vals, x_vals],names=['sin(x)', 'cos(x)', 'x'])\n",
    "\n",
    "\n",
    "print(first_10)\n",
    "    "
   ]
  }
 ],
 "metadata": {
  "kernelspec": {
   "display_name": "Python 3 (ipykernel)",
   "language": "python",
   "name": "python3"
  },
  "language_info": {
   "codemirror_mode": {
    "name": "ipython",
    "version": 3
   },
   "file_extension": ".py",
   "mimetype": "text/x-python",
   "name": "python",
   "nbconvert_exporter": "python",
   "pygments_lexer": "ipython3",
   "version": "3.13.7"
  }
 },
 "nbformat": 4,
 "nbformat_minor": 5
}
